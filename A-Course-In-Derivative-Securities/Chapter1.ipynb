{
 "cells": [
  {
   "cell_type": "markdown",
   "metadata": {},
   "source": [
    "# Chapter 2"
   ]
  },
  {
   "cell_type": "markdown",
   "metadata": {},
   "source": [
    "## 2.1"
   ]
  },
  {
   "cell_type": "code",
   "execution_count": 1,
   "metadata": {},
   "outputs": [
    {
     "name": "stdout",
     "output_type": "stream",
     "text": [
      "3.1945283689181593e-07\n"
     ]
    }
   ],
   "source": [
    "import numpy as np \n",
    "def calc_quadratic_variation(T, N, func):\n",
    "    t = np.linspace(0, T, N+1)\n",
    "    x = func(t)\n",
    "    return np.sum((x[1:] - x[:-1])**2)\n",
    "\n",
    "def func1(t):\n",
    "    return np.exp(t)\n",
    "\n",
    "print(calc_quadratic_variation(1, 10000000, func1))\n"
   ]
  },
  {
   "cell_type": "markdown",
   "metadata": {},
   "source": [
    "## 2.2"
   ]
  },
  {
   "cell_type": "code",
   "execution_count": 4,
   "metadata": {},
   "outputs": [
    {
     "name": "stdout",
     "output_type": "stream",
     "text": [
      "1.8000180000799988e-05\n"
     ]
    }
   ],
   "source": [
    "def func2(t): return pow(t, 3)\n",
    "print(calc_quadratic_variation(1, 100000, func2))"
   ]
  },
  {
   "cell_type": "markdown",
   "metadata": {},
   "source": [
    "## 2.3\n"
   ]
  },
  {
   "cell_type": "code",
   "execution_count": 4,
   "metadata": {},
   "outputs": [
    {
     "name": "stdout",
     "output_type": "stream",
     "text": [
      "0.9811240999497819\n"
     ]
    }
   ],
   "source": [
    "# Simulate a Brownian motion\n",
    "def brownian_motion(t):\n",
    "    N = len(t)\n",
    "    w = np.zeros(N)\n",
    "    for i in range(1, N):\n",
    "        w[i] = w[i-1] + np.random.normal(0, np.sqrt(t[i] - t[i-1]))\n",
    "    return w\n",
    "\n",
    "print(calc_quadratic_variation(1, 10000, brownian_motion))\n"
   ]
  },
  {
   "cell_type": "markdown",
   "metadata": {},
   "source": [
    "## 2.4"
   ]
  },
  {
   "cell_type": "code",
   "execution_count": 12,
   "metadata": {},
   "outputs": [
    {
     "name": "stdout",
     "output_type": "stream",
     "text": [
      "79.75199175219684\n"
     ]
    }
   ],
   "source": [
    "# abs\n",
    "def calc_abs_diff(T, N, func):\n",
    "    t = np.linspace(0, T, N+1)\n",
    "    x = func(t)\n",
    "    return np.sum(np.abs(x[1:] - x[:-1]))\n",
    "\n",
    "print(calc_abs_diff(1, 10000, brownian_motion))"
   ]
  }
 ],
 "metadata": {
  "kernelspec": {
   "display_name": ".venv",
   "language": "python",
   "name": "python3"
  },
  "language_info": {
   "codemirror_mode": {
    "name": "ipython",
    "version": 3
   },
   "file_extension": ".py",
   "mimetype": "text/x-python",
   "name": "python",
   "nbconvert_exporter": "python",
   "pygments_lexer": "ipython3",
   "version": "3.11.3"
  },
  "orig_nbformat": 4
 },
 "nbformat": 4,
 "nbformat_minor": 2
}
